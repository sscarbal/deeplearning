{
 "cells": [
  {
   "cell_type": "markdown",
   "metadata": {},
   "source": [
    "# Python Numply Tutorial\n",
    "\n",
    "Practice Python and Numpy from [CS231n Convolutional Neural Networks for Visual Recognition](http://cs231n.github.io/python-numpy-tutorial/).\n",
    "\n",
    "Also from: [IPython notebook version of this tutorial here](https://github.com/kuleshov/cs228-material/blob/master/tutorials/python/cs228-python-tutorial.ipynb).\n",
    "\n",
    "See also GitHub Help [Basic writing and formatting syntax\n",
    "](https://help.github.com/articles/basic-writing-and-formatting-syntax/)."
   ]
  },
  {
   "cell_type": "markdown",
   "metadata": {
    "collapsed": true
   },
   "source": [
    "## Basic data types"
   ]
  },
  {
   "cell_type": "markdown",
   "metadata": {},
   "source": [
    "### Numbers"
   ]
  },
  {
   "cell_type": "code",
   "execution_count": null,
   "metadata": {
    "collapsed": true
   },
   "outputs": [],
   "source": [
    "x=3\n",
    "print(type(x))  #Prints \"<class 'int'>\"\n",
    "print(x)       #Prints \"3\"\n",
    "print(x + 1)\n",
    "print(x - 1)\n",
    "print(x * 2)\n",
    "print(x ** 2)\n",
    "x += 1\n",
    "print(x)       #Prints \"4\"\n",
    "x *= 2 \n",
    "print(x)       #Prints \"8\"\n",
    "y = 2.5\n",
    "print(type(y)) #Prints \"<class 'float'>\"\n",
    "print(y, y + 1, y * 2, y ** 2)\n"
   ]
  },
  {
   "cell_type": "markdown",
   "metadata": {},
   "source": [
    "Note that unlike many languages, Python does not have unary increment (x++) or decrement (x--) operators.\n",
    "\n"
   ]
  },
  {
   "cell_type": "markdown",
   "metadata": {},
   "source": [
    "### Booleans"
   ]
  },
  {
   "cell_type": "code",
   "execution_count": 31,
   "metadata": {},
   "outputs": [
    {
     "name": "stdout",
     "output_type": "stream",
     "text": [
      "<class 'bool'>\n",
      "False\n",
      "True\n",
      "False\n",
      "True\n"
     ]
    }
   ],
   "source": [
    "t = True\n",
    "f = False\n",
    "print(type(t))   # Prints \"<class 'bool'>\"\n",
    "print(t and f)\n",
    "print(t or f)\n",
    "print(not t)\n",
    "print(t != f)   # logical XOR"
   ]
  },
  {
   "cell_type": "markdown",
   "metadata": {},
   "source": [
    "### Strings"
   ]
  },
  {
   "cell_type": "code",
   "execution_count": 29,
   "metadata": {},
   "outputs": [
    {
     "name": "stdout",
     "output_type": "stream",
     "text": [
      "hello\n",
      "5\n",
      "hello world\n",
      "hello world 12\n"
     ]
    }
   ],
   "source": [
    "hello = 'hello'     # String literals ca use single quotes\n",
    "world = \"world\"     # or double quotes; it dos not matter\n",
    "print(hello)\n",
    "print(len(hello))   # Prints \"5\"\n",
    "hw = hello + ' ' +world   # Strings concatenation\n",
    "print(hw)     \n",
    "hw12 = '%s %s %d' % (hello, world, 12)  # sprintf style string formatting\n",
    "print(hw12)"
   ]
  },
  {
   "cell_type": "markdown",
   "metadata": {},
   "source": [
    "**Strings methods**. A list of all string methods in the [documentation](https://docs.python.org/3.5/library/stdtypes.html#string-methods)."
   ]
  },
  {
   "cell_type": "code",
   "execution_count": 35,
   "metadata": {},
   "outputs": [
    {
     "name": "stdout",
     "output_type": "stream",
     "text": [
      "Hello\n",
      "HELLO\n",
      "  hello\n",
      " hello \n",
      "he(ell)(ell)o\n",
      "world\n"
     ]
    }
   ],
   "source": [
    "s = \"hello\"\n",
    "print(s.capitalize())   # Capitalize a string; prints \"Hello\"\n",
    "print(s.upper())        # Convert a string to uppercase; pints \"HELLO\"\n",
    "print(s.rjust(7))       # Right-justify a string, padding with spaces; prints \"   hello\"\n",
    "print(s.center(7))      # Center a string, padding with spaces; prints \"   hello   \"\n",
    "print(s.replace('l','(ell)'))     # Replace all instances of one substring with another; \n",
    "                                  # prints \"he(ell)(ell)o\"\n",
    "print('   world   '.strip())   #Strip leading and trailing whitespace; prints \"world\""
   ]
  },
  {
   "cell_type": "markdown",
   "metadata": {},
   "source": [
    "## Containers \n",
    "\n",
    "Python includes several built-in container types: lists, dictionaries, sets, and tuples.\n",
    "\n",
    "### Lists\n",
    "\n",
    "details about lists in the [documentation](https://docs.python.org/3.5/tutorial/datastructures.html#more-on-lists).\n"
   ]
  }
 ],
 "metadata": {
  "kernelspec": {
   "display_name": "Python 3",
   "language": "python",
   "name": "python3"
  },
  "language_info": {
   "codemirror_mode": {
    "name": "ipython",
    "version": 3
   },
   "file_extension": ".py",
   "mimetype": "text/x-python",
   "name": "python",
   "nbconvert_exporter": "python",
   "pygments_lexer": "ipython3",
   "version": "3.6.3"
  }
 },
 "nbformat": 4,
 "nbformat_minor": 2
}
